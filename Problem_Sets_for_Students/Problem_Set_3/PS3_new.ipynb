{
 "cells": [
  {
   "cell_type": "markdown",
   "metadata": {},
   "source": [
    "<h1 align=center><font size=5>ECON-UB. 251</font></h1>\n",
    "<h1 align=center><font size=5>Econometrics I</font></h1>\n",
    "<h1 align=center><font size=5>Problem Set 3</font></h1>"
   ]
  },
  {
   "cell_type": "markdown",
   "metadata": {},
   "source": [
    "<div class=\"alert alert-danger alertdanger\" style=\"margin-top: 20px\">\n",
    "    <p><b>Name</b>:  </p>\n",
    "    <p><b>NetID</b>:  </p>"
   ]
  },
  {
   "cell_type": "markdown",
   "metadata": {},
   "source": [
    "<h4>Instructions</h4>\n",
    "<p>Problem Set 1 is due on Thursday, Oct 24, at 12am. Please submit your Jupyter Notebook file on NYU Classes Assignment. Make sure you include your name and Net ID in the title of your notebook.</p>\n",
    "<p>You are required to type your answer in the column below each of the question. Remember to execute your code (Shift+Enter). You can insert cell and use #comments if necessary. "
   ]
  },
  {
   "cell_type": "markdown",
   "metadata": {},
   "source": [
    "<div class=\"alert alert-danger alertdanger\" style=\"margin-top: 20px\">\n",
    "<h1>Question 1</h1>"
   ]
  },
  {
   "cell_type": "markdown",
   "metadata": {},
   "source": [
    "<font size=2>Load data via link below and store in the dataframe.</font>"
   ]
  },
  {
   "cell_type": "code",
   "execution_count": 29,
   "metadata": {},
   "outputs": [],
   "source": [
    "import pandas as pd\n",
    "wage = pd.read_csv('https://github.com/minzhi123/econometrics/raw/master/wage.csv')"
   ]
  },
  {
   "cell_type": "markdown",
   "metadata": {},
   "source": [
    "To capture the life-cycle pattern of wages, consider the following multiple linear regression model\n",
    "\n",
    "$wage = \\beta_0 + \\beta_1educ + \\beta_2exper + \\beta_3exper^2 + \\epsilon $  \n",
    "\n",
    "where $wage$ is the wage rate measured in dollar per hour, $educ$ is years of education, $exper$ is years of work experience, $exper^2$ is squared years of experience (in the dataset is called $expersq$). \n",
    "\n",
    "(1) Estimate the equation and report the results. (For full credit give your answer as a formula and a word explanation)\n",
    "\n",
    "(2) What is the marginal effect of a year increase in the work experience for a person with 18 years of work experience? \n"
   ]
  },
  {
   "cell_type": "code",
   "execution_count": null,
   "metadata": {},
   "outputs": [],
   "source": [
    "#Write your code below and tap your answer here."
   ]
  },
  {
   "cell_type": "code",
   "execution_count": null,
   "metadata": {},
   "outputs": [],
   "source": []
  },
  {
   "cell_type": "markdown",
   "metadata": {},
   "source": [
    "<div class=\"alert alert-danger alertdanger\" style=\"margin-top: 20px\">\n",
    "<h1>Question 2</h1>"
   ]
  },
  {
   "cell_type": "markdown",
   "metadata": {},
   "source": [
    "Load data via link below and store in dataframe **fare**. "
   ]
  },
  {
   "cell_type": "code",
   "execution_count": 30,
   "metadata": {},
   "outputs": [],
   "source": [
    "fares = pd.read_csv('https://github.com/minzhi123/econometrics/raw/master/fares.csv')"
   ]
  },
  {
   "cell_type": "markdown",
   "metadata": {},
   "source": [
    "where $year$ is 1997, 1998, 1999, 2000, $id$ is route identifier, $dist$ is the distance of the route measured in miles, $passen$ is the average number of passengers per day, $fare$ is the average one-way fare of the route measured in dollar per day, $conc$ is the percent of market controlled by the biggest carrier on route"
   ]
  },
  {
   "cell_type": "markdown",
   "metadata": {},
   "source": [
    "(1)Generate a new variable called $yr00$ which takes on values 1 if the observation is in 2000 and 0 otherwise (a dummy variable).\n",
    "\n",
    "(2) Estimate the model 1 using OLS and print the summary results.\n",
    "\n",
    "Model 1):  $fare = \\beta_1 + \\beta_2dist+ \\beta_3conc + \\epsilon$\n",
    "\n",
    "(3) Consider the null hypothesis that $\\beta_2$ = 0 and $\\beta_3$ = 0 in Model 1. What is the alternative hypothesis? Conduct the test and state your decision.\n",
    "\n",
    "(4) State in words and numbers how we should interpret the estimated coeﬃcients respectively in Model 1. (for full credit explain how you know if it is statistically signiﬁcant)\n"
   ]
  },
  {
   "cell_type": "code",
   "execution_count": null,
   "metadata": {},
   "outputs": [],
   "source": [
    "#Write your code below and tap your answer here."
   ]
  },
  {
   "cell_type": "code",
   "execution_count": null,
   "metadata": {},
   "outputs": [],
   "source": []
  },
  {
   "cell_type": "code",
   "execution_count": null,
   "metadata": {},
   "outputs": [],
   "source": []
  },
  {
   "cell_type": "code",
   "execution_count": null,
   "metadata": {},
   "outputs": [],
   "source": []
  },
  {
   "cell_type": "markdown",
   "metadata": {},
   "source": [
    "(5) Generate an interaction term called $yr00dist$ by multiplying the variable $dist$ by the variable you created in part (1), $yr00dist = yr00 * dist$ \n",
    "\n",
    "(6) Estimate the model 2 using OLS and print the summary results.\n",
    "\n",
    "Model 2):  $fare = \\beta_1 + \\beta_2dist+ \\beta_3conc+ \\beta_4yr00 + \\beta_5yr00dist+ \\epsilon$\n",
    "\n",
    "(7) What is the base group for Model 2?\n",
    "\n",
    "(8) State in words and numbers how we should interpret the estimated coeﬃcients respectively in Model 2. (for full credit explain how you know if it is statistically signiﬁcant)"
   ]
  },
  {
   "cell_type": "code",
   "execution_count": null,
   "metadata": {},
   "outputs": [],
   "source": [
    "#Write your code below and tap your answer here."
   ]
  },
  {
   "cell_type": "code",
   "execution_count": null,
   "metadata": {},
   "outputs": [],
   "source": []
  },
  {
   "cell_type": "code",
   "execution_count": null,
   "metadata": {},
   "outputs": [],
   "source": []
  },
  {
   "cell_type": "code",
   "execution_count": null,
   "metadata": {},
   "outputs": [],
   "source": []
  }
 ],
 "metadata": {
  "kernelspec": {
   "display_name": "Python 3",
   "language": "python",
   "name": "python3"
  },
  "language_info": {
   "codemirror_mode": {
    "name": "ipython",
    "version": 3
   },
   "file_extension": ".py",
   "mimetype": "text/x-python",
   "name": "python",
   "nbconvert_exporter": "python",
   "pygments_lexer": "ipython3",
   "version": "3.7.3"
  }
 },
 "nbformat": 4,
 "nbformat_minor": 2
}
