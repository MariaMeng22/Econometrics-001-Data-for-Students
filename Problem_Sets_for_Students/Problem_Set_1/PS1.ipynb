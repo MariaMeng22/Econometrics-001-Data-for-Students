{
 "cells": [
  {
   "cell_type": "markdown",
   "metadata": {},
   "source": [
    "<h1 align=center><font size=5>ECON-UB. 251</font></h1>\n",
    "<h1 align=center><font size=5>Econometrics I</font></h1>\n",
    "<h1 align=center><font size=5>Problem Set 1</font></h1>"
   ]
  },
  {
   "cell_type": "markdown",
   "metadata": {},
   "source": [
    "<div class=\"alert alert-danger alertdanger\" style=\"margin-top: 20px\">\n",
    "    <p>#Write down your name and ID here.</p>\n",
    "    <p><b>Name</b>:                   </p>\n",
    "    <p><b>NetID</b>:                  </p>\n"
   ]
  },
  {
   "cell_type": "markdown",
   "metadata": {},
   "source": [
    "<h4>Instructions</h4>\n",
    "<p>Problem Set 1 is due on Wednesday, September 11, at 6pm. Please submit your Jupyter Notebook file on NYU Classes Assignment. Make sure you include your name and Net ID in the title of your notebook.</p>\n",
    "<p>You are required to type your answer in the column below each of the question. Remember to execute your code (Shift+Enter). You can insert cell and use #comments if necessary. "
   ]
  },
  {
   "cell_type": "markdown",
   "metadata": {},
   "source": [
    "<div class=\"alert alert-danger alertdanger\" style=\"margin-top: 20px\">\n",
    "<h1>Question 1</h1>"
   ]
  },
  {
   "cell_type": "markdown",
   "metadata": {},
   "source": [
    "Use the data in BWGHT.xlsx to answer this question. \n",
    "\n",
    "(1) How many women are in the sample, and how many report smoking during pregnancy? \n",
    "\n",
    "(2) What is the average number of cigarettes smoked per day? What is the median number of cigarettes smoked per day? How do you interpret the difference?\n",
    "\n",
    "(3) Among women who smoked during pregnancy, what is the average number of cigarettes smoked per day? How does this compare with your answer from part(2)? Why?\n",
    "\n",
    "(4) Report the average family income and its standard deviation in dollars. "
   ]
  },
  {
   "cell_type": "code",
   "execution_count": 1,
   "metadata": {},
   "outputs": [],
   "source": [
    "#Write your code below and tap your answer here.\n",
    "#(1)"
   ]
  },
  {
   "cell_type": "code",
   "execution_count": null,
   "metadata": {},
   "outputs": [],
   "source": [
    "#(2)"
   ]
  },
  {
   "cell_type": "code",
   "execution_count": null,
   "metadata": {},
   "outputs": [],
   "source": [
    "#(3)"
   ]
  },
  {
   "cell_type": "code",
   "execution_count": null,
   "metadata": {},
   "outputs": [],
   "source": [
    "#(4)"
   ]
  },
  {
   "cell_type": "markdown",
   "metadata": {},
   "source": [
    "<div class=\"alert alert-danger alertdanger\" style=\"margin-top: 20px\">\n",
    "<h1>Question 2</h1>"
   ]
  },
  {
   "cell_type": "markdown",
   "metadata": {},
   "source": [
    "Use the data Canada.xlsx to answer this question.\n",
    "\n",
    "(1) Use the `describe()` method to view a quick summary of each column in our dataframe and use the `shape` attribute method to see how many entries are in the dataset (dimensions of the dataframe)\n",
    " \n",
    "(2) Drop columns('AREA', 'REG', 'DEV', 'Type', 'Coverage'). Use the `head()` method to print out the first five items in our dataset. Make sure the inplace parameter is set to _True_\n",
    "\n",
    "(3) Rename some of the columns {'OdName':'Country', 'AreaName':'Continent','RegName':'Region'}. Print out the first five items in the dataset.\n",
    "\n",
    "(4) Set the 'Country' column as the index using `set_index()` method. Print out the first five items in our dataset.\n",
    "\n",
    "(5) Add a 'Total' column that sums up the total number of immigrants by country from 1980 - 2013. Print the dimension of the dataframe"
   ]
  },
  {
   "cell_type": "code",
   "execution_count": null,
   "metadata": {},
   "outputs": [],
   "source": [
    "#(1)"
   ]
  },
  {
   "cell_type": "code",
   "execution_count": null,
   "metadata": {},
   "outputs": [],
   "source": [
    "#(2)"
   ]
  },
  {
   "cell_type": "code",
   "execution_count": null,
   "metadata": {},
   "outputs": [],
   "source": [
    "#(3)"
   ]
  },
  {
   "cell_type": "code",
   "execution_count": null,
   "metadata": {},
   "outputs": [],
   "source": [
    "#(4)"
   ]
  },
  {
   "cell_type": "code",
   "execution_count": 2,
   "metadata": {},
   "outputs": [],
   "source": [
    "#(5)"
   ]
  }
 ],
 "metadata": {
  "kernelspec": {
   "display_name": "Python 3",
   "language": "python",
   "name": "python3"
  },
  "language_info": {
   "codemirror_mode": {
    "name": "ipython",
    "version": 3
   },
   "file_extension": ".py",
   "mimetype": "text/x-python",
   "name": "python",
   "nbconvert_exporter": "python",
   "pygments_lexer": "ipython3",
   "version": "3.7.3"
  }
 },
 "nbformat": 4,
 "nbformat_minor": 2
}
