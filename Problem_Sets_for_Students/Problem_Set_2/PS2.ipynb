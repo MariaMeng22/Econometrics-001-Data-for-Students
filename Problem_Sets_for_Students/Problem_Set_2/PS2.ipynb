{
 "cells": [
  {
   "cell_type": "markdown",
   "metadata": {},
   "source": [
    "<h1 align=center><font size=5>ECON-UB. 251</font></h1>\n",
    "<h1 align=center><font size=5>Econometrics I</font></h1>\n",
    "<h1 align=center><font size=5>Problem Set 2</font></h1>"
   ]
  },
  {
   "cell_type": "markdown",
   "metadata": {},
   "source": [
    "<div class=\"alert alert-danger alertdanger\" style=\"margin-top: 20px\">\n",
    "    <p>#Write down your name and ID here.</p>\n",
    "    <p><b>Name</b>:                   </p>\n",
    "    <p><b>NetID</b>:                  </p>\n"
   ]
  },
  {
   "cell_type": "markdown",
   "metadata": {},
   "source": [
    "<h4>Instructions</h4>\n",
    "<p>Problem Set 2 is due on Wednesday, September 25, at 6pm. Please submit your Jupyter Notebook file on NYU Classes Assignment. Make sure you include your name and Net ID in the title of your notebook.</p>\n",
    "<p>You are required to type your answer in the column below each of the question. Remember to execute your code (Shift+Enter). You can insert cell and use #comments if necessary. "
   ]
  },
  {
   "cell_type": "markdown",
   "metadata": {},
   "source": [
    "<div class=\"alert alert-danger alertdanger\" style=\"margin-top: 20px\">\n",
    "<h1>Question 1</h1>"
   ]
  },
  {
   "cell_type": "markdown",
   "metadata": {},
   "source": [
    "Use the data automobile.xlsx.  \n",
    "\n",
    "The dataset contains the specification of an autocar in terms of various characteristics. \n",
    "\n",
    "(1) Use the `groupby` function to find the average $price$ of each car based on $bodystyle$. \n",
    "\n",
    "(2) Find the average, mode and medium value of $price$ respectively in the sample.  \n",
    "What is the sample standard deviation of $price$?  \n",
    "With the results you get above, comment on the distribution of $price$. \n",
    "\n",
    "(3) Choose two columns $price$ and $highwaympg$ using the code `df[[\"highwaympg\",\"price\"]]`, print out the first five rows of the selected dataframe.  \n",
    "Find the correlation of $price$ and $highwaympg$, and describe the relationship between the two variables.\n",
    "\n",
    "(4) Estimate the model below by OLS and answer the following questions $$price = \\beta_0 + \\beta_1highwaympg + \\epsilon $$\n",
    "\n",
    "(4.1) What is the equation of the predicted line (you can use $x$ and $\\hat{y}$ or 'highwaympg' and 'price')?\n",
    "\n",
    "(4.2) Interpret $\\beta_0$ and $\\beta_1$, and comment on the sign and magnitude for $\\beta_0$ and $\\beta_1$ respectively. \n",
    "\n",
    "(4.3) What is the predicted price when $highwaympg$ is 32?  \n",
    "From the dataframe you got in (3), filter out all those rows with $highwaympg = 32$, print out your result.  \n",
    "Comparing the real values of $price$ in the sample with the predicted value in the estimated model when $highwaympg$ is 32.  \n",
    "How do you explain the differences?\n",
    "\n",
    "(4.4) What is $R^2$ for the estimated model? Try to interpret it. "
   ]
  },
  {
   "cell_type": "code",
   "execution_count": 1,
   "metadata": {},
   "outputs": [],
   "source": [
    "#Write your code below and tap your answer here. \n",
    "#(1)"
   ]
  },
  {
   "cell_type": "code",
   "execution_count": null,
   "metadata": {},
   "outputs": [],
   "source": [
    "#(2)"
   ]
  },
  {
   "cell_type": "code",
   "execution_count": null,
   "metadata": {},
   "outputs": [],
   "source": [
    "#(3)"
   ]
  },
  {
   "cell_type": "code",
   "execution_count": null,
   "metadata": {},
   "outputs": [],
   "source": [
    "#(4.1)"
   ]
  },
  {
   "cell_type": "code",
   "execution_count": null,
   "metadata": {},
   "outputs": [],
   "source": []
  }
 ],
 "metadata": {
  "kernelspec": {
   "display_name": "Python 3",
   "language": "python",
   "name": "python3"
  },
  "language_info": {
   "codemirror_mode": {
    "name": "ipython",
    "version": 3
   },
   "file_extension": ".py",
   "mimetype": "text/x-python",
   "name": "python",
   "nbconvert_exporter": "python",
   "pygments_lexer": "ipython3",
   "version": "3.7.3"
  }
 },
 "nbformat": 4,
 "nbformat_minor": 2
}
